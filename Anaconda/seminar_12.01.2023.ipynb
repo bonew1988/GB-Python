{
 "cells": [
  {
   "cell_type": "code",
   "execution_count": 1,
   "id": "5bf87cc8",
   "metadata": {},
   "outputs": [],
   "source": [
    "# Дана функция f(x) = 5x^2 + 10x - 30\n",
    "#     Определить корни\n",
    "#     Найти интервалы, на которых функция возрастает\n",
    "#     Найти интервалы, на которых функция убывает\n",
    "#     Построить график\n",
    "#     Вычислить вершину\n",
    "#     Определить промежутки, на котором f > 0\n",
    "#     Определить промежутки, на котором f < 0"
   ]
  },
  {
   "cell_type": "code",
   "execution_count": 2,
   "id": "29dab53c",
   "metadata": {},
   "outputs": [],
   "source": [
    "from sympy import *\n",
    "import matplotlib.pyplot as plt"
   ]
  },
  {
   "cell_type": "code",
   "execution_count": 3,
   "id": "4966c2e4",
   "metadata": {},
   "outputs": [],
   "source": [
    "from math import sqrt\n",
    "\n",
    "def mysolve(a, b,c):\n",
    "    d = b**2 - 4*a*c\n",
    "    if d >= 0:\n",
    "        x1 = (-b + sqrt(d)) / (2 * a)\n",
    "        x2 = (-b - sqrt(d)) / (2 * a)\n",
    "        return (x1, x2)\n",
    "    else:\n",
    "        return 'Вещественных корней нет'"
   ]
  },
  {
   "cell_type": "code",
   "execution_count": 4,
   "id": "297d1c5b",
   "metadata": {},
   "outputs": [
    {
     "data": {
      "text/plain": [
       "(1.6457513110645905, -3.6457513110645907)"
      ]
     },
     "execution_count": 4,
     "metadata": {},
     "output_type": "execute_result"
    }
   ],
   "source": [
    "# Определить корни\n",
    "mysolve(5, 10, -30)"
   ]
  },
  {
   "cell_type": "code",
   "execution_count": 5,
   "id": "b4bc89ec",
   "metadata": {},
   "outputs": [
    {
     "name": "stdout",
     "output_type": "stream",
     "text": [
      "10*x + 10\n"
     ]
    }
   ],
   "source": [
    "x = Symbol('x')\n",
    "f = 5*x**2+10*x-30\n",
    "derivative_f = f.diff(x)\n",
    "print(derivative_f)\n"
   ]
  },
  {
   "cell_type": "code",
   "execution_count": 6,
   "id": "e2e45ca4",
   "metadata": {},
   "outputs": [
    {
     "data": {
      "image/png": "[encoded data removed]",
      "text/plain": [
       "<Figure size 640x480 with 1 Axes>"
      ]
     },
     "metadata": {},
     "output_type": "display_data"
    },
    {
     "data": {
      "text/plain": [
       "<sympy.plotting.plot.Plot at 0x7fb4f8144130>"
      ]
     },
     "execution_count": 6,
     "metadata": {},
     "output_type": "execute_result"
    }
   ],
   "source": [
    "from sympy.plotting import plot\n",
    "plot(f)\n"
   ]
  },
  {
   "cell_type": "code",
   "execution_count": 7,
   "id": "c4fdc73b",
   "metadata": {},
   "outputs": [
    {
     "data": {
      "text/latex": [
       "$\\displaystyle \\left(-\\infty, - \\sqrt{7} - 1\\right) \\cup \\left(-1 + \\sqrt{7}, \\infty\\right)$"
      ],
      "text/plain": [
       "Union(Interval.open(-oo, -sqrt(7) - 1), Interval.open(-1 + sqrt(7), oo))"
      ]
     },
     "execution_count": 7,
     "metadata": {},
     "output_type": "execute_result"
    }
   ],
   "source": [
    "# Найти интервалы, на которых функция возрастает\n",
    "solveset(f > 0, x, S.Reals)"
   ]
  },
  {
   "cell_type": "code",
   "execution_count": 8,
   "id": "17b0aabb",
   "metadata": {},
   "outputs": [
    {
     "data": {
      "text/latex": [
       "$\\displaystyle \\left(- \\sqrt{7} - 1, -1 + \\sqrt{7}\\right)$"
      ],
      "text/plain": [
       "Interval.open(-sqrt(7) - 1, -1 + sqrt(7))"
      ]
     },
     "execution_count": 8,
     "metadata": {},
     "output_type": "execute_result"
    }
   ],
   "source": [
    "# Найти интервалы, на которых функция убывает\n",
    "solveset(f < 0, x, S.Reals)"
   ]
  },
  {
   "cell_type": "code",
   "execution_count": 9,
   "id": "b8ee6ed6",
   "metadata": {},
   "outputs": [
    {
     "data": {
      "text/latex": [
       "$\\displaystyle \\left(-1, \\infty\\right)$"
      ],
      "text/plain": [
       "Interval.open(-1, oo)"
      ]
     },
     "execution_count": 9,
     "metadata": {},
     "output_type": "execute_result"
    }
   ],
   "source": [
    "# Определить промежутки, на котором f > 0\n",
    "solveset(derivative_f > 0, x, S.Reals)"
   ]
  },
  {
   "cell_type": "code",
   "execution_count": 10,
   "id": "ae54ce45",
   "metadata": {},
   "outputs": [
    {
     "data": {
      "text/latex": [
       "$\\displaystyle \\left(-\\infty, -1\\right)$"
      ],
      "text/plain": [
       "Interval.open(-oo, -1)"
      ]
     },
     "execution_count": 10,
     "metadata": {},
     "output_type": "execute_result"
    }
   ],
   "source": [
    "# Определить промежутки, на котором f < 0\n",
    "solveset(derivative_f < 0, x, S.Reals)"
   ]
  },
  {
   "cell_type": "code",
   "execution_count": 11,
   "id": "67c29d67",
   "metadata": {},
   "outputs": [
    {
     "data": {
      "text/latex": [
       "$\\displaystyle \\left\\{-1\\right\\}$"
      ],
      "text/plain": [
       "{-1}"
      ]
     },
     "execution_count": 11,
     "metadata": {},
     "output_type": "execute_result"
    }
   ],
   "source": [
    "# Вычислить вершину\n",
    "solveset(derivative_f , x, S.Reals)"
   ]
  }
 ],
 "metadata": {
  "kernelspec": {
   "display_name": "Python 3 (ipykernel)",
   "language": "python",
   "name": "python3"
  },
  "language_info": {
   "codemirror_mode": {
    "name": "ipython",
    "version": 3
   },
   "file_extension": ".py",
   "mimetype": "text/x-python",
   "name": "python",
   "nbconvert_exporter": "python",
   "pygments_lexer": "ipython3",
   "version": "3.10.6"
  },
  "vscode": {
   "interpreter": {
    "hash": "916dbcbb3f70747c44a77c7bcd40155683ae19c65e1c03b4aa3499c5328201f1"
   }
  }
 },
 "nbformat": 4,
 "nbformat_minor": 5
}
